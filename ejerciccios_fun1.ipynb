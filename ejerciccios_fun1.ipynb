{
 "cells": [
  {
   "cell_type": "markdown",
   "metadata": {},
   "source": [
    "# Ejercicio 1"
   ]
  },
  {
   "cell_type": "code",
   "execution_count": 6,
   "metadata": {},
   "outputs": [
    {
     "name": "stdout",
     "output_type": "stream",
     "text": [
      "La fuerza de gravedad entre las masas es: 2.9663555555555555e-11 N\n"
     ]
    }
   ],
   "source": [
    "# Constante de gravitación universal\n",
    "G = 6.67430e-11  # en N(m/kg)^2\n",
    "\n",
    "def calcular_fuerza_gravedad(m1, m2, r):\n",
    "    \"\"\"\n",
    "    Calcula la fuerza de gravedad entre dos masas dadas a una distancia.\n",
    "    \n",
    "    Parámetros:\n",
    "    m1 -- masa del primer objeto (kg)\n",
    "    m2 -- masa del segundo objeto (kg)\n",
    "    r -- distancia entre los centros de las dos masas (m)\n",
    "    \n",
    "    Retorna:\n",
    "    Fuerza de gravedad en Newtons\n",
    "    \"\"\"\n",
    "    F = G * m1 * m2 / r**2\n",
    "    return F\n",
    "\n",
    "# Solicitar al usuario que ingrese las masas y la distancia\n",
    "masa1 = float(input('Ingrese la masa del primer objeto (en kg): '))\n",
    "masa2 = float(input('Ingrese la masa del segundo objeto (en kg): '))\n",
    "distancia = float(input('Ingrese la distancia entre los centros de las dos masas (en m): '))\n",
    "\n",
    "# Calcular la fuerza de gravedad\n",
    "fuerza = calcular_fuerza_gravedad(masa1, masa2, distancia)\n",
    "\n",
    "# Mostrar el resultado\n",
    "print(f'La fuerza de gravedad entre las masas es: {fuerza} N')\n"
   ]
  },
  {
   "cell_type": "markdown",
   "metadata": {},
   "source": [
    "# Ejercicio 2"
   ]
  },
  {
   "cell_type": "code",
   "execution_count": 8,
   "metadata": {},
   "outputs": [
    {
     "name": "stdout",
     "output_type": "stream",
     "text": [
      "¡Hola Profe! Aqui puedes mirar la aplicacion del ejercicio.\n"
     ]
    },
    {
     "name": "stdout",
     "output_type": "stream",
     "text": [
      "El área del rectángulo es: 2.0\n",
      "El cuadrado del número es: 9.0\n",
      "La suma de los dos números es: 9.0\n"
     ]
    }
   ],
   "source": [
    "import math\n",
    "\n",
    "def saludar():\n",
    "    \"\"\"Imprime un saludo.\"\"\"\n",
    "    print(\"¡Hola Profe! Aqui puedes mirar la aplicacion del ejercicio.\")\n",
    "\n",
    "def calcular_area_rectangulo(ancho, alto):\n",
    "    \"\"\"Calcula el área de un rectángulo.\"\"\"\n",
    "    return ancho * alto\n",
    "\n",
    "def elevar_cuadrado(numero):\n",
    "    \"\"\"Eleva un número al cuadrado utilizando math.pow.\"\"\"\n",
    "    return math.pow(numero, 2)\n",
    "\n",
    "def sumar_dos_numeros(num1, num2):\n",
    "    \"\"\"Suma dos números.\"\"\"\n",
    "    return num1 + num2\n",
    "\n",
    "def main():\n",
    "    \"\"\"Función principal del programa.\"\"\"\n",
    "    saludar()\n",
    "    \n",
    "    # Calcular el área de un rectángulo\n",
    "    ancho = float(input(\"Ingrese el ancho del rectángulo: \"))\n",
    "    alto = float(input(\"Ingrese el alto del rectángulo: \"))\n",
    "    area = calcular_area_rectangulo(ancho, alto)\n",
    "    print(f\"El área del rectángulo es: {area}\")\n",
    "\n",
    "    # Elevar un número al cuadrado\n",
    "    numero = float(input(\"Ingrese un número para elevar al cuadrado: \"))\n",
    "    cuadrado = elevar_cuadrado(numero)\n",
    "    print(f\"El cuadrado del número es: {cuadrado}\")\n",
    "\n",
    "    # Sumar dos números\n",
    "    num1 = float(input(\"Ingrese el primer número para sumar: \"))\n",
    "    num2 = float(input(\"Ingrese el segundo número para sumar: \"))\n",
    "    suma = sumar_dos_numeros(num1, num2)\n",
    "    print(f\"La suma de los dos números es: {suma}\")\n",
    "\n",
    "# Ejecutar la función principal\n",
    "if __name__ == \"__main__\":\n",
    "    main()\n"
   ]
  }
 ],
 "metadata": {
  "kernelspec": {
   "display_name": "Python 3",
   "language": "python",
   "name": "python3"
  },
  "language_info": {
   "codemirror_mode": {
    "name": "ipython",
    "version": 3
   },
   "file_extension": ".py",
   "mimetype": "text/x-python",
   "name": "python",
   "nbconvert_exporter": "python",
   "pygments_lexer": "ipython3",
   "version": "3.12.2"
  }
 },
 "nbformat": 4,
 "nbformat_minor": 2
}
